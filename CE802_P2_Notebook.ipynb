{
 "cells": [
  {
   "cell_type": "markdown",
   "metadata": {},
   "source": [
    "### Part A"
   ]
  },
  {
   "cell_type": "markdown",
   "metadata": {},
   "source": [
    "Importing Libaries & loading data "
   ]
  },
  {
   "cell_type": "code",
   "execution_count": 13,
   "metadata": {
    "scrolled": true
   },
   "outputs": [
    {
     "data": {
      "text/html": [
       "<div>\n",
       "<style scoped>\n",
       "    .dataframe tbody tr th:only-of-type {\n",
       "        vertical-align: middle;\n",
       "    }\n",
       "\n",
       "    .dataframe tbody tr th {\n",
       "        vertical-align: top;\n",
       "    }\n",
       "\n",
       "    .dataframe thead th {\n",
       "        text-align: right;\n",
       "    }\n",
       "</style>\n",
       "<table border=\"1\" class=\"dataframe\">\n",
       "  <thead>\n",
       "    <tr style=\"text-align: right;\">\n",
       "      <th></th>\n",
       "      <th>F1</th>\n",
       "      <th>F2</th>\n",
       "      <th>F3</th>\n",
       "      <th>F4</th>\n",
       "      <th>F5</th>\n",
       "      <th>F6</th>\n",
       "      <th>F7</th>\n",
       "      <th>F8</th>\n",
       "      <th>F9</th>\n",
       "      <th>F10</th>\n",
       "      <th>...</th>\n",
       "      <th>F13</th>\n",
       "      <th>F14</th>\n",
       "      <th>F15</th>\n",
       "      <th>F16</th>\n",
       "      <th>F17</th>\n",
       "      <th>F18</th>\n",
       "      <th>F19</th>\n",
       "      <th>F20</th>\n",
       "      <th>F21</th>\n",
       "      <th>Class</th>\n",
       "    </tr>\n",
       "  </thead>\n",
       "  <tbody>\n",
       "    <tr>\n",
       "      <th>0</th>\n",
       "      <td>1</td>\n",
       "      <td>164.190</td>\n",
       "      <td>-4178.67</td>\n",
       "      <td>4.99800</td>\n",
       "      <td>-2549.640</td>\n",
       "      <td>13.14900</td>\n",
       "      <td>-2.3611</td>\n",
       "      <td>-5.2077</td>\n",
       "      <td>5335.84</td>\n",
       "      <td>35223.12</td>\n",
       "      <td>...</td>\n",
       "      <td>-4.207</td>\n",
       "      <td>0</td>\n",
       "      <td>0.210430</td>\n",
       "      <td>36.0960</td>\n",
       "      <td>-2114.140</td>\n",
       "      <td>-7.2180</td>\n",
       "      <td>-4488.06</td>\n",
       "      <td>-13.4058</td>\n",
       "      <td>-50.25</td>\n",
       "      <td>0</td>\n",
       "    </tr>\n",
       "    <tr>\n",
       "      <th>1</th>\n",
       "      <td>1</td>\n",
       "      <td>198.880</td>\n",
       "      <td>-3543.06</td>\n",
       "      <td>4.30770</td>\n",
       "      <td>-2756.201</td>\n",
       "      <td>14.83800</td>\n",
       "      <td>-4.7280</td>\n",
       "      <td>-5.0266</td>\n",
       "      <td>5798.16</td>\n",
       "      <td>35355.42</td>\n",
       "      <td>...</td>\n",
       "      <td>-3.880</td>\n",
       "      <td>0</td>\n",
       "      <td>0.133771</td>\n",
       "      <td>20.1660</td>\n",
       "      <td>-1666.780</td>\n",
       "      <td>-4.9785</td>\n",
       "      <td>-4640.64</td>\n",
       "      <td>-14.6730</td>\n",
       "      <td>-53.40</td>\n",
       "      <td>1</td>\n",
       "    </tr>\n",
       "    <tr>\n",
       "      <th>2</th>\n",
       "      <td>0</td>\n",
       "      <td>181.412</td>\n",
       "      <td>-4216.57</td>\n",
       "      <td>5.05700</td>\n",
       "      <td>-2740.469</td>\n",
       "      <td>9.64290</td>\n",
       "      <td>-2.2035</td>\n",
       "      <td>-5.1951</td>\n",
       "      <td>4049.44</td>\n",
       "      <td>38741.13</td>\n",
       "      <td>...</td>\n",
       "      <td>-3.803</td>\n",
       "      <td>0</td>\n",
       "      <td>0.891100</td>\n",
       "      <td>11.5167</td>\n",
       "      <td>-1786.518</td>\n",
       "      <td>-15.3990</td>\n",
       "      <td>-4306.77</td>\n",
       "      <td>-22.7340</td>\n",
       "      <td>NaN</td>\n",
       "      <td>0</td>\n",
       "    </tr>\n",
       "    <tr>\n",
       "      <th>3</th>\n",
       "      <td>0</td>\n",
       "      <td>171.074</td>\n",
       "      <td>-2659.26</td>\n",
       "      <td>4.39720</td>\n",
       "      <td>-2822.720</td>\n",
       "      <td>9.37761</td>\n",
       "      <td>-2.2478</td>\n",
       "      <td>-4.5436</td>\n",
       "      <td>4964.64</td>\n",
       "      <td>35331.99</td>\n",
       "      <td>...</td>\n",
       "      <td>-5.683</td>\n",
       "      <td>0</td>\n",
       "      <td>0.738000</td>\n",
       "      <td>20.4390</td>\n",
       "      <td>-1730.260</td>\n",
       "      <td>-5.3937</td>\n",
       "      <td>-4475.04</td>\n",
       "      <td>-18.0990</td>\n",
       "      <td>-51.66</td>\n",
       "      <td>1</td>\n",
       "    </tr>\n",
       "    <tr>\n",
       "      <th>4</th>\n",
       "      <td>0</td>\n",
       "      <td>175.464</td>\n",
       "      <td>-2008.26</td>\n",
       "      <td>3.86574</td>\n",
       "      <td>-2441.840</td>\n",
       "      <td>12.10350</td>\n",
       "      <td>-4.4130</td>\n",
       "      <td>-4.5974</td>\n",
       "      <td>5958.06</td>\n",
       "      <td>34318.53</td>\n",
       "      <td>...</td>\n",
       "      <td>-4.261</td>\n",
       "      <td>1</td>\n",
       "      <td>0.243700</td>\n",
       "      <td>3.8640</td>\n",
       "      <td>-1744.300</td>\n",
       "      <td>-5.3109</td>\n",
       "      <td>-4709.85</td>\n",
       "      <td>-20.8470</td>\n",
       "      <td>-51.63</td>\n",
       "      <td>1</td>\n",
       "    </tr>\n",
       "  </tbody>\n",
       "</table>\n",
       "<p>5 rows × 22 columns</p>\n",
       "</div>"
      ],
      "text/plain": [
       "   F1       F2       F3       F4        F5        F6      F7      F8       F9  \\\n",
       "0   1  164.190 -4178.67  4.99800 -2549.640  13.14900 -2.3611 -5.2077  5335.84   \n",
       "1   1  198.880 -3543.06  4.30770 -2756.201  14.83800 -4.7280 -5.0266  5798.16   \n",
       "2   0  181.412 -4216.57  5.05700 -2740.469   9.64290 -2.2035 -5.1951  4049.44   \n",
       "3   0  171.074 -2659.26  4.39720 -2822.720   9.37761 -2.2478 -4.5436  4964.64   \n",
       "4   0  175.464 -2008.26  3.86574 -2441.840  12.10350 -4.4130 -4.5974  5958.06   \n",
       "\n",
       "        F10  ...    F13  F14       F15      F16       F17      F18      F19  \\\n",
       "0  35223.12  ... -4.207    0  0.210430  36.0960 -2114.140  -7.2180 -4488.06   \n",
       "1  35355.42  ... -3.880    0  0.133771  20.1660 -1666.780  -4.9785 -4640.64   \n",
       "2  38741.13  ... -3.803    0  0.891100  11.5167 -1786.518 -15.3990 -4306.77   \n",
       "3  35331.99  ... -5.683    0  0.738000  20.4390 -1730.260  -5.3937 -4475.04   \n",
       "4  34318.53  ... -4.261    1  0.243700   3.8640 -1744.300  -5.3109 -4709.85   \n",
       "\n",
       "       F20    F21  Class  \n",
       "0 -13.4058 -50.25      0  \n",
       "1 -14.6730 -53.40      1  \n",
       "2 -22.7340    NaN      0  \n",
       "3 -18.0990 -51.66      1  \n",
       "4 -20.8470 -51.63      1  \n",
       "\n",
       "[5 rows x 22 columns]"
      ]
     },
     "execution_count": 13,
     "metadata": {},
     "output_type": "execute_result"
    }
   ],
   "source": [
    "# HERE YOU WILL WRITE CODE TO TEST A NUMBER OF PREDICTORS\n",
    "# AND FINALLY CHOOSE AND TRAIN THE PREDICTOR THAT YOU WILL BE USING FOR PART B\n",
    "\n",
    "import pandas as pd\n",
    "import numpy as np\n",
    "from sklearn.naive_bayes import BernoulliNB\n",
    "from sklearn.tree import DecisionTreeClassifier # Import Decision Tree Classifier\n",
    "from sklearn.model_selection import train_test_split # Import train_test_split function\n",
    "from sklearn import metrics\n",
    "from sklearn.model_selection import RandomizedSearchCV, GridSearchCV\n",
    "import matplotlib.pyplot as plt\n",
    "import seaborn as sns\n",
    "from sklearn.linear_model import LogisticRegression\n",
    "from sklearn.neighbors import KNeighborsClassifier\n",
    "from sklearn.naive_bayes import GaussianNB\n",
    "from sklearn.metrics import accuracy_score, log_loss, recall_score, precision_score\n",
    "from sklearn.neighbors import KNeighborsClassifier\n",
    "from sklearn.svm import SVC, LinearSVC, NuSVC\n",
    "from sklearn.tree import DecisionTreeClassifier\n",
    "from sklearn.ensemble import RandomForestClassifier, AdaBoostClassifier, GradientBoostingClassifier\n",
    "from sklearn.discriminant_analysis import LinearDiscriminantAnalysis\n",
    "from sklearn.discriminant_analysis import QuadraticDiscriminantAnalysis\n",
    "from sklearn.pipeline import Pipeline\n",
    "from sklearn.compose import ColumnTransformer\n",
    "from sklearn.preprocessing import MinMaxScaler\n",
    "\n",
    "train_df = pd.read_csv(\"CE802_P2_Data.csv\")\n",
    "train_df['Class'] = (train_df['Class'] == True).astype(int) # converting bool to int\n",
    "train_df.head()\n"
   ]
  },
  {
   "cell_type": "markdown",
   "metadata": {},
   "source": [
    "## Checking data Types"
   ]
  },
  {
   "cell_type": "code",
   "execution_count": 2,
   "metadata": {},
   "outputs": [
    {
     "data": {
      "text/plain": [
       "F1         int64\n",
       "F2       float64\n",
       "F3       float64\n",
       "F4       float64\n",
       "F5       float64\n",
       "F6       float64\n",
       "F7       float64\n",
       "F8       float64\n",
       "F9       float64\n",
       "F10      float64\n",
       "F11      float64\n",
       "F12      float64\n",
       "F13      float64\n",
       "F14        int64\n",
       "F15      float64\n",
       "F16      float64\n",
       "F17      float64\n",
       "F18      float64\n",
       "F19      float64\n",
       "F20      float64\n",
       "F21      float64\n",
       "Class      int32\n",
       "dtype: object"
      ]
     },
     "execution_count": 2,
     "metadata": {},
     "output_type": "execute_result"
    }
   ],
   "source": [
    "train_df.dtypes"
   ]
  },
  {
   "cell_type": "markdown",
   "metadata": {},
   "source": [
    "## Confusion matrix function"
   ]
  },
  {
   "cell_type": "code",
   "execution_count": 2,
   "metadata": {},
   "outputs": [],
   "source": [
    "def plot_confusionmatrix(y_train_pred,y_train,dom):\n",
    "    print(f'{dom} Confusion matrix')\n",
    "    cf = metrics.confusion_matrix(y_train_pred,y_train)\n",
    "    sns.heatmap(cf,annot=True,yticklabels=True\n",
    "               ,xticklabels=True,cmap='Blues', fmt='g')\n",
    "    plt.tight_layout()\n",
    "    plt.show()"
   ]
  },
  {
   "cell_type": "markdown",
   "metadata": {},
   "source": [
    "## Pipeline running method"
   ]
  },
  {
   "cell_type": "code",
   "execution_count": 17,
   "metadata": {},
   "outputs": [],
   "source": [
    "def runPipeline(classifiers, numeric_transformer, X_train, X_test, y_train, y_test):\n",
    "    numeric_features = X_train.columns\n",
    "    preprocessor = ColumnTransformer(\n",
    "       transformers=[\n",
    "        ('numeric', numeric_transformer, numeric_features)\n",
    "    ]) \n",
    "\n",
    "    for classifier in classifiers:\n",
    "        pipe = Pipeline(steps=[('preprocessor',preprocessor),\n",
    "                          ('classifier', classifier)])\n",
    "        pipe.fit(X_train, y_train)\n",
    "        y_pred_train = pipe.predict(X_train)\n",
    "        y_pred_test = pipe.predict(X_test)\n",
    "        print(classifier.estimator)\n",
    "        print(classifier.best_params_)\n",
    "        print(\"Train score: %.3f\" % pipe.score(X_train, y_train))\n",
    "        print(\"Train Recall score %.3f, Precision score: %.3f\" % (recall_score(y_train, y_pred_train), precision_score(y_train, y_pred_train)))\n",
    "        print(\"Test score: %.3f\" % pipe.score(X_test, y_test))\n",
    "        print(\"Test Recall score %.3f, Precision score: %.3f\" % (recall_score(y_test, y_pred_test), precision_score(y_test, y_pred_test)))"
   ]
  },
  {
   "cell_type": "markdown",
   "metadata": {},
   "source": [
    "## Preprocessing"
   ]
  },
  {
   "cell_type": "code",
   "execution_count": 4,
   "metadata": {
    "scrolled": true
   },
   "outputs": [
    {
     "data": {
      "text/html": [
       "<div>\n",
       "<style scoped>\n",
       "    .dataframe tbody tr th:only-of-type {\n",
       "        vertical-align: middle;\n",
       "    }\n",
       "\n",
       "    .dataframe tbody tr th {\n",
       "        vertical-align: top;\n",
       "    }\n",
       "\n",
       "    .dataframe thead th {\n",
       "        text-align: right;\n",
       "    }\n",
       "</style>\n",
       "<table border=\"1\" class=\"dataframe\">\n",
       "  <thead>\n",
       "    <tr style=\"text-align: right;\">\n",
       "      <th></th>\n",
       "      <th>F1</th>\n",
       "      <th>F2</th>\n",
       "      <th>F3</th>\n",
       "      <th>F4</th>\n",
       "      <th>F5</th>\n",
       "      <th>F6</th>\n",
       "      <th>F7</th>\n",
       "      <th>F8</th>\n",
       "      <th>F9</th>\n",
       "      <th>F10</th>\n",
       "      <th>...</th>\n",
       "      <th>F12</th>\n",
       "      <th>F13</th>\n",
       "      <th>F14</th>\n",
       "      <th>F15</th>\n",
       "      <th>F16</th>\n",
       "      <th>F17</th>\n",
       "      <th>F18</th>\n",
       "      <th>F19</th>\n",
       "      <th>F20</th>\n",
       "      <th>Class</th>\n",
       "    </tr>\n",
       "  </thead>\n",
       "  <tbody>\n",
       "    <tr>\n",
       "      <th>0</th>\n",
       "      <td>1</td>\n",
       "      <td>164.190</td>\n",
       "      <td>-4178.67</td>\n",
       "      <td>4.99800</td>\n",
       "      <td>-2549.640</td>\n",
       "      <td>13.14900</td>\n",
       "      <td>-2.3611</td>\n",
       "      <td>-5.2077</td>\n",
       "      <td>5335.84</td>\n",
       "      <td>35223.12</td>\n",
       "      <td>...</td>\n",
       "      <td>9165.460</td>\n",
       "      <td>-4.207</td>\n",
       "      <td>0</td>\n",
       "      <td>0.210430</td>\n",
       "      <td>36.0960</td>\n",
       "      <td>-2114.140</td>\n",
       "      <td>-7.2180</td>\n",
       "      <td>-4488.06</td>\n",
       "      <td>-13.4058</td>\n",
       "      <td>0</td>\n",
       "    </tr>\n",
       "    <tr>\n",
       "      <th>1</th>\n",
       "      <td>1</td>\n",
       "      <td>198.880</td>\n",
       "      <td>-3543.06</td>\n",
       "      <td>4.30770</td>\n",
       "      <td>-2756.201</td>\n",
       "      <td>14.83800</td>\n",
       "      <td>-4.7280</td>\n",
       "      <td>-5.0266</td>\n",
       "      <td>5798.16</td>\n",
       "      <td>35355.42</td>\n",
       "      <td>...</td>\n",
       "      <td>10564.260</td>\n",
       "      <td>-3.880</td>\n",
       "      <td>0</td>\n",
       "      <td>0.133771</td>\n",
       "      <td>20.1660</td>\n",
       "      <td>-1666.780</td>\n",
       "      <td>-4.9785</td>\n",
       "      <td>-4640.64</td>\n",
       "      <td>-14.6730</td>\n",
       "      <td>1</td>\n",
       "    </tr>\n",
       "    <tr>\n",
       "      <th>2</th>\n",
       "      <td>0</td>\n",
       "      <td>181.412</td>\n",
       "      <td>-4216.57</td>\n",
       "      <td>5.05700</td>\n",
       "      <td>-2740.469</td>\n",
       "      <td>9.64290</td>\n",
       "      <td>-2.2035</td>\n",
       "      <td>-5.1951</td>\n",
       "      <td>4049.44</td>\n",
       "      <td>38741.13</td>\n",
       "      <td>...</td>\n",
       "      <td>8653.606</td>\n",
       "      <td>-3.803</td>\n",
       "      <td>0</td>\n",
       "      <td>0.891100</td>\n",
       "      <td>11.5167</td>\n",
       "      <td>-1786.518</td>\n",
       "      <td>-15.3990</td>\n",
       "      <td>-4306.77</td>\n",
       "      <td>-22.7340</td>\n",
       "      <td>0</td>\n",
       "    </tr>\n",
       "    <tr>\n",
       "      <th>3</th>\n",
       "      <td>0</td>\n",
       "      <td>171.074</td>\n",
       "      <td>-2659.26</td>\n",
       "      <td>4.39720</td>\n",
       "      <td>-2822.720</td>\n",
       "      <td>9.37761</td>\n",
       "      <td>-2.2478</td>\n",
       "      <td>-4.5436</td>\n",
       "      <td>4964.64</td>\n",
       "      <td>35331.99</td>\n",
       "      <td>...</td>\n",
       "      <td>9721.860</td>\n",
       "      <td>-5.683</td>\n",
       "      <td>0</td>\n",
       "      <td>0.738000</td>\n",
       "      <td>20.4390</td>\n",
       "      <td>-1730.260</td>\n",
       "      <td>-5.3937</td>\n",
       "      <td>-4475.04</td>\n",
       "      <td>-18.0990</td>\n",
       "      <td>1</td>\n",
       "    </tr>\n",
       "    <tr>\n",
       "      <th>4</th>\n",
       "      <td>0</td>\n",
       "      <td>175.464</td>\n",
       "      <td>-2008.26</td>\n",
       "      <td>3.86574</td>\n",
       "      <td>-2441.840</td>\n",
       "      <td>12.10350</td>\n",
       "      <td>-4.4130</td>\n",
       "      <td>-4.5974</td>\n",
       "      <td>5958.06</td>\n",
       "      <td>34318.53</td>\n",
       "      <td>...</td>\n",
       "      <td>8525.340</td>\n",
       "      <td>-4.261</td>\n",
       "      <td>1</td>\n",
       "      <td>0.243700</td>\n",
       "      <td>3.8640</td>\n",
       "      <td>-1744.300</td>\n",
       "      <td>-5.3109</td>\n",
       "      <td>-4709.85</td>\n",
       "      <td>-20.8470</td>\n",
       "      <td>1</td>\n",
       "    </tr>\n",
       "  </tbody>\n",
       "</table>\n",
       "<p>5 rows × 21 columns</p>\n",
       "</div>"
      ],
      "text/plain": [
       "   F1       F2       F3       F4        F5        F6      F7      F8       F9  \\\n",
       "0   1  164.190 -4178.67  4.99800 -2549.640  13.14900 -2.3611 -5.2077  5335.84   \n",
       "1   1  198.880 -3543.06  4.30770 -2756.201  14.83800 -4.7280 -5.0266  5798.16   \n",
       "2   0  181.412 -4216.57  5.05700 -2740.469   9.64290 -2.2035 -5.1951  4049.44   \n",
       "3   0  171.074 -2659.26  4.39720 -2822.720   9.37761 -2.2478 -4.5436  4964.64   \n",
       "4   0  175.464 -2008.26  3.86574 -2441.840  12.10350 -4.4130 -4.5974  5958.06   \n",
       "\n",
       "        F10  ...        F12    F13  F14       F15      F16       F17      F18  \\\n",
       "0  35223.12  ...   9165.460 -4.207    0  0.210430  36.0960 -2114.140  -7.2180   \n",
       "1  35355.42  ...  10564.260 -3.880    0  0.133771  20.1660 -1666.780  -4.9785   \n",
       "2  38741.13  ...   8653.606 -3.803    0  0.891100  11.5167 -1786.518 -15.3990   \n",
       "3  35331.99  ...   9721.860 -5.683    0  0.738000  20.4390 -1730.260  -5.3937   \n",
       "4  34318.53  ...   8525.340 -4.261    1  0.243700   3.8640 -1744.300  -5.3109   \n",
       "\n",
       "       F19      F20  Class  \n",
       "0 -4488.06 -13.4058      0  \n",
       "1 -4640.64 -14.6730      1  \n",
       "2 -4306.77 -22.7340      0  \n",
       "3 -4475.04 -18.0990      1  \n",
       "4 -4709.85 -20.8470      1  \n",
       "\n",
       "[5 rows x 21 columns]"
      ]
     },
     "execution_count": 4,
     "metadata": {},
     "output_type": "execute_result"
    }
   ],
   "source": [
    "filtered_df = train_df.drop('F21', axis=1) # droping column with null value\n",
    "filtered_df.head()"
   ]
  },
  {
   "cell_type": "code",
   "execution_count": 5,
   "metadata": {
    "scrolled": true
   },
   "outputs": [
    {
     "data": {
      "text/html": [
       "<div>\n",
       "<style scoped>\n",
       "    .dataframe tbody tr th:only-of-type {\n",
       "        vertical-align: middle;\n",
       "    }\n",
       "\n",
       "    .dataframe tbody tr th {\n",
       "        vertical-align: top;\n",
       "    }\n",
       "\n",
       "    .dataframe thead th {\n",
       "        text-align: right;\n",
       "    }\n",
       "</style>\n",
       "<table border=\"1\" class=\"dataframe\">\n",
       "  <thead>\n",
       "    <tr style=\"text-align: right;\">\n",
       "      <th></th>\n",
       "      <th>F1</th>\n",
       "      <th>F2</th>\n",
       "      <th>F3</th>\n",
       "      <th>F4</th>\n",
       "      <th>F5</th>\n",
       "      <th>F6</th>\n",
       "      <th>F7</th>\n",
       "      <th>F8</th>\n",
       "      <th>F9</th>\n",
       "      <th>F10</th>\n",
       "      <th>F11</th>\n",
       "      <th>F12</th>\n",
       "      <th>F13</th>\n",
       "      <th>F14</th>\n",
       "      <th>F15</th>\n",
       "      <th>F16</th>\n",
       "      <th>F17</th>\n",
       "      <th>F18</th>\n",
       "      <th>F19</th>\n",
       "      <th>F20</th>\n",
       "    </tr>\n",
       "  </thead>\n",
       "  <tbody>\n",
       "    <tr>\n",
       "      <th>0</th>\n",
       "      <td>1</td>\n",
       "      <td>164.190</td>\n",
       "      <td>-4178.67</td>\n",
       "      <td>4.99800</td>\n",
       "      <td>-2549.640</td>\n",
       "      <td>13.14900</td>\n",
       "      <td>-2.3611</td>\n",
       "      <td>-5.2077</td>\n",
       "      <td>5335.84</td>\n",
       "      <td>35223.12</td>\n",
       "      <td>-1.82</td>\n",
       "      <td>9165.460</td>\n",
       "      <td>-4.207</td>\n",
       "      <td>0</td>\n",
       "      <td>0.210430</td>\n",
       "      <td>36.0960</td>\n",
       "      <td>-2114.140</td>\n",
       "      <td>-7.2180</td>\n",
       "      <td>-4488.06</td>\n",
       "      <td>-13.4058</td>\n",
       "    </tr>\n",
       "    <tr>\n",
       "      <th>1</th>\n",
       "      <td>1</td>\n",
       "      <td>198.880</td>\n",
       "      <td>-3543.06</td>\n",
       "      <td>4.30770</td>\n",
       "      <td>-2756.201</td>\n",
       "      <td>14.83800</td>\n",
       "      <td>-4.7280</td>\n",
       "      <td>-5.0266</td>\n",
       "      <td>5798.16</td>\n",
       "      <td>35355.42</td>\n",
       "      <td>-3.82</td>\n",
       "      <td>10564.260</td>\n",
       "      <td>-3.880</td>\n",
       "      <td>0</td>\n",
       "      <td>0.133771</td>\n",
       "      <td>20.1660</td>\n",
       "      <td>-1666.780</td>\n",
       "      <td>-4.9785</td>\n",
       "      <td>-4640.64</td>\n",
       "      <td>-14.6730</td>\n",
       "    </tr>\n",
       "    <tr>\n",
       "      <th>2</th>\n",
       "      <td>0</td>\n",
       "      <td>181.412</td>\n",
       "      <td>-4216.57</td>\n",
       "      <td>5.05700</td>\n",
       "      <td>-2740.469</td>\n",
       "      <td>9.64290</td>\n",
       "      <td>-2.2035</td>\n",
       "      <td>-5.1951</td>\n",
       "      <td>4049.44</td>\n",
       "      <td>38741.13</td>\n",
       "      <td>-1.82</td>\n",
       "      <td>8653.606</td>\n",
       "      <td>-3.803</td>\n",
       "      <td>0</td>\n",
       "      <td>0.891100</td>\n",
       "      <td>11.5167</td>\n",
       "      <td>-1786.518</td>\n",
       "      <td>-15.3990</td>\n",
       "      <td>-4306.77</td>\n",
       "      <td>-22.7340</td>\n",
       "    </tr>\n",
       "    <tr>\n",
       "      <th>3</th>\n",
       "      <td>0</td>\n",
       "      <td>171.074</td>\n",
       "      <td>-2659.26</td>\n",
       "      <td>4.39720</td>\n",
       "      <td>-2822.720</td>\n",
       "      <td>9.37761</td>\n",
       "      <td>-2.2478</td>\n",
       "      <td>-4.5436</td>\n",
       "      <td>4964.64</td>\n",
       "      <td>35331.99</td>\n",
       "      <td>-3.82</td>\n",
       "      <td>9721.860</td>\n",
       "      <td>-5.683</td>\n",
       "      <td>0</td>\n",
       "      <td>0.738000</td>\n",
       "      <td>20.4390</td>\n",
       "      <td>-1730.260</td>\n",
       "      <td>-5.3937</td>\n",
       "      <td>-4475.04</td>\n",
       "      <td>-18.0990</td>\n",
       "    </tr>\n",
       "    <tr>\n",
       "      <th>4</th>\n",
       "      <td>0</td>\n",
       "      <td>175.464</td>\n",
       "      <td>-2008.26</td>\n",
       "      <td>3.86574</td>\n",
       "      <td>-2441.840</td>\n",
       "      <td>12.10350</td>\n",
       "      <td>-4.4130</td>\n",
       "      <td>-4.5974</td>\n",
       "      <td>5958.06</td>\n",
       "      <td>34318.53</td>\n",
       "      <td>-1.82</td>\n",
       "      <td>8525.340</td>\n",
       "      <td>-4.261</td>\n",
       "      <td>1</td>\n",
       "      <td>0.243700</td>\n",
       "      <td>3.8640</td>\n",
       "      <td>-1744.300</td>\n",
       "      <td>-5.3109</td>\n",
       "      <td>-4709.85</td>\n",
       "      <td>-20.8470</td>\n",
       "    </tr>\n",
       "  </tbody>\n",
       "</table>\n",
       "</div>"
      ],
      "text/plain": [
       "   F1       F2       F3       F4        F5        F6      F7      F8       F9  \\\n",
       "0   1  164.190 -4178.67  4.99800 -2549.640  13.14900 -2.3611 -5.2077  5335.84   \n",
       "1   1  198.880 -3543.06  4.30770 -2756.201  14.83800 -4.7280 -5.0266  5798.16   \n",
       "2   0  181.412 -4216.57  5.05700 -2740.469   9.64290 -2.2035 -5.1951  4049.44   \n",
       "3   0  171.074 -2659.26  4.39720 -2822.720   9.37761 -2.2478 -4.5436  4964.64   \n",
       "4   0  175.464 -2008.26  3.86574 -2441.840  12.10350 -4.4130 -4.5974  5958.06   \n",
       "\n",
       "        F10   F11        F12    F13  F14       F15      F16       F17  \\\n",
       "0  35223.12 -1.82   9165.460 -4.207    0  0.210430  36.0960 -2114.140   \n",
       "1  35355.42 -3.82  10564.260 -3.880    0  0.133771  20.1660 -1666.780   \n",
       "2  38741.13 -1.82   8653.606 -3.803    0  0.891100  11.5167 -1786.518   \n",
       "3  35331.99 -3.82   9721.860 -5.683    0  0.738000  20.4390 -1730.260   \n",
       "4  34318.53 -1.82   8525.340 -4.261    1  0.243700   3.8640 -1744.300   \n",
       "\n",
       "       F18      F19      F20  \n",
       "0  -7.2180 -4488.06 -13.4058  \n",
       "1  -4.9785 -4640.64 -14.6730  \n",
       "2 -15.3990 -4306.77 -22.7340  \n",
       "3  -5.3937 -4475.04 -18.0990  \n",
       "4  -5.3109 -4709.85 -20.8470  "
      ]
     },
     "execution_count": 5,
     "metadata": {},
     "output_type": "execute_result"
    }
   ],
   "source": [
    "X = filtered_df.iloc[:,:-1]\n",
    "X.head()"
   ]
  },
  {
   "cell_type": "code",
   "execution_count": 6,
   "metadata": {
    "scrolled": true
   },
   "outputs": [
    {
     "data": {
      "text/plain": [
       "0    0\n",
       "1    1\n",
       "2    0\n",
       "3    1\n",
       "4    1\n",
       "Name: Class, dtype: int64"
      ]
     },
     "execution_count": 6,
     "metadata": {},
     "output_type": "execute_result"
    }
   ],
   "source": [
    "Y = filtered_df.Class\n",
    "Y.head()"
   ]
  },
  {
   "cell_type": "markdown",
   "metadata": {},
   "source": [
    "## Data visulisation"
   ]
  },
  {
   "cell_type": "code",
   "execution_count": 7,
   "metadata": {},
   "outputs": [
    {
     "data": {
      "image/png": "[encoded data removed]",
      "text/plain": [
       "<Figure size 1080x1800 with 20 Axes>"
      ]
     },
     "metadata": {
      "needs_background": "light"
     },
     "output_type": "display_data"
    }
   ],
   "source": [
    "x = X.to_numpy()\n",
    "y = Y.to_numpy()\n",
    "plt.figure(figsize=(15,25))\n",
    "for i in range(x.shape[1]):\n",
    "    plt.subplot(7, 3, i+1)\n",
    "    plt.scatter(y,x[:,i])\n",
    "    plt.xticks([0, 1])\n",
    "    plt.title(train_df.columns[i])"
   ]
  },
  {
   "cell_type": "markdown",
   "metadata": {},
   "source": [
    "## Model Selection"
   ]
  },
  {
   "cell_type": "code",
   "execution_count": 8,
   "metadata": {},
   "outputs": [
    {
     "name": "stdout",
     "output_type": "stream",
     "text": [
      "KNeighborsClassifier(n_neighbors=3)\n",
      "model score: 0.810\n",
      "model score: 0.655\n",
      "GaussianNB()\n",
      "model score: 0.537\n",
      "model score: 0.435\n",
      "BernoulliNB()\n",
      "model score: 0.521\n",
      "model score: 0.490\n",
      "SVC(C=0.025, probability=True)\n",
      "model score: 0.517\n",
      "model score: 0.460\n",
      "NuSVC(probability=True)\n",
      "model score: 0.564\n",
      "model score: 0.455\n",
      "DecisionTreeClassifier()\n",
      "model score: 1.000\n",
      "model score: 0.835\n",
      "RandomForestClassifier()\n",
      "model score: 1.000\n",
      "model score: 0.880\n",
      "AdaBoostClassifier()\n",
      "model score: 0.835\n",
      "model score: 0.745\n",
      "GradientBoostingClassifier()\n",
      "model score: 0.961\n",
      "model score: 0.875\n"
     ]
    }
   ],
   "source": [
    "classifiers = [\n",
    "    KNeighborsClassifier(3),\n",
    "    GaussianNB(),\n",
    "    BernoulliNB(),\n",
    "    SVC(kernel=\"rbf\", C=0.025, probability=True),\n",
    "    NuSVC(probability=True),\n",
    "    DecisionTreeClassifier(),\n",
    "    RandomForestClassifier(),\n",
    "    AdaBoostClassifier(),\n",
    "    GradientBoostingClassifier()\n",
    "    ]\n",
    "\n",
    "df = filtered_df.copy()\n",
    "\n",
    "X = df.iloc[:,:-1]\n",
    "Y = df.Class\n",
    "\n",
    "X_train, X_test, y_train, y_test = train_test_split(X, Y, test_size=0.2, random_state=1)\n",
    "\n",
    "for classifier in classifiers:\n",
    "    pipe = Pipeline(steps=[\n",
    "                      ('classifier', classifier)])\n",
    "    pipe.fit(X_train, y_train)   \n",
    "    print(classifier)\n",
    "    print(\"model score: %.3f\" % pipe.score(X_train, y_train))\n",
    "    print(\"model score: %.3f\" % pipe.score(X_test, y_test))"
   ]
  },
  {
   "cell_type": "markdown",
   "metadata": {},
   "source": [
    "## Pipeline for gridSearchCV on all model to find best parameters"
   ]
  },
  {
   "cell_type": "code",
   "execution_count": 18,
   "metadata": {},
   "outputs": [],
   "source": [
    "params = {'criterion':[\"entropy\",\"gini\"],\n",
    "          'max_depth': list(range(2,11)),\n",
    "         'min_samples_split': list(range(2,10)),\n",
    "         'min_samples_leaf': list(range(1,15))}\n",
    "\n",
    "clf = DecisionTreeClassifier()\n",
    "dtCV = GridSearchCV(estimator=clf,param_grid=params, cv=10, n_jobs=-1)\n",
    "\n",
    "params = {'n_neighbors': list(range(2,120)),\n",
    "          'weights': ['uniform', 'distance'],\n",
    "          'algorithm':['auto'],\n",
    "         'metric': ['minkowski', 'manhattan'],\n",
    "         'leaf_size':list(range(1,25))}\n",
    "\n",
    "clf = KNeighborsClassifier()\n",
    "knnCV = GridSearchCV(estimator=clf,param_grid=params, cv=10, n_jobs=-1)\n",
    "\n",
    "params = {'solver': ['saga'],\n",
    "          'penalty': ['l1','l2'],\n",
    "        'max_iter' : [180, 250, 500, 2000, 5000, 10000, 15000, 20000]}\n",
    "\n",
    "clf = LogisticRegression()\n",
    "logisticCV = GridSearchCV(estimator=clf,param_grid=params, cv=10, n_jobs=-1)\n",
    "\n",
    "\n",
    "params = {'var_smoothing': np.logspace(0,-9, num=100)}\n",
    "\n",
    "clf = GaussianNB()\n",
    "nbCV = GridSearchCV(estimator=clf,param_grid=params, cv=10, n_jobs=-1)\n",
    "\n",
    "clf = GradientBoostingClassifier()\n",
    "params = {\n",
    "    \"n_estimators\":[5,50,250,500],\n",
    "    \"max_depth\":[1,3,5,7,9],\n",
    "    \"learning_rate\":[0.01,0.1,1,10,100]\n",
    "}\n",
    "gbCV = GridSearchCV(estimator=clf,param_grid=params, cv=10, n_jobs=-1)\n",
    "\n",
    "classifiers = [\n",
    "    dtCV,\n",
    "    logisticCV,\n",
    "    knnCV,\n",
    "    nbCV,\n",
    "    gbCV\n",
    "    ]"
   ]
  },
  {
   "cell_type": "markdown",
   "metadata": {},
   "source": [
    "## Gridsearch on all models after droping null column"
   ]
  },
  {
   "cell_type": "code",
   "execution_count": 19,
   "metadata": {},
   "outputs": [
    {
     "name": "stdout",
     "output_type": "stream",
     "text": [
      "DecisionTreeClassifier()\n",
      "{'criterion': 'gini', 'max_depth': 5, 'min_samples_leaf': 2, 'min_samples_split': 4}\n",
      "Train score: 0.924\n",
      "Train Recall score 0.925, Precision score: 0.927\n",
      "Test score: 0.865\n",
      "Test Recall score 0.870, Precision score: 0.842\n",
      "LogisticRegression()\n",
      "{'max_iter': 180, 'penalty': 'l1', 'solver': 'saga'}\n",
      "Train score: 0.694\n",
      "Train Recall score 0.645, Precision score: 0.732\n",
      "Test score: 0.715\n",
      "Test Recall score 0.652, Precision score: 0.706\n",
      "KNeighborsClassifier()\n",
      "{'algorithm': 'auto', 'leaf_size': 1, 'metric': 'manhattan', 'n_neighbors': 37, 'weights': 'distance'}\n",
      "Train score: 1.000\n",
      "Train Recall score 1.000, Precision score: 1.000\n",
      "Test score: 0.675\n",
      "Test Recall score 0.663, Precision score: 0.642\n",
      "GaussianNB()\n",
      "{'var_smoothing': 0.01519911082952933}\n",
      "Train score: 0.625\n",
      "Train Recall score 0.659, Precision score: 0.632\n",
      "Test score: 0.580\n",
      "Test Recall score 0.576, Precision score: 0.541\n",
      "GradientBoostingClassifier()\n",
      "{'learning_rate': 0.1, 'max_depth': 7, 'n_estimators': 250}\n",
      "Train score: 1.000\n",
      "Train Recall score 1.000, Precision score: 1.000\n",
      "Test score: 0.920\n",
      "Test Recall score 0.935, Precision score: 0.896\n"
     ]
    }
   ],
   "source": [
    "numeric_transformer = Pipeline(steps=[\n",
    "    ('scaler', MinMaxScaler())\n",
    "])\n",
    "\n",
    "runPipeline(classifiers, numeric_transformer, X_train, X_test, y_train, y_test)"
   ]
  },
  {
   "cell_type": "markdown",
   "metadata": {},
   "source": [
    "## Best parameter classifiers of all models"
   ]
  },
  {
   "cell_type": "code",
   "execution_count": 20,
   "metadata": {},
   "outputs": [],
   "source": [
    "params = {'criterion':[\"entropy\"],\n",
    "          'max_depth': [5],\n",
    "         'min_samples_split': [2],\n",
    "         'min_samples_leaf': [1]}\n",
    "\n",
    "clf = DecisionTreeClassifier()\n",
    "dtCV = GridSearchCV(estimator=clf,param_grid=params, cv=10, n_jobs=-1)\n",
    "\n",
    "params = {'n_neighbors': [37],\n",
    "          'weights': [ 'distance'],\n",
    "          'algorithm':['auto'],\n",
    "          'metric':  ['manhattan'],\n",
    "          'leaf_size':[1]}\n",
    "\n",
    "clf = KNeighborsClassifier()\n",
    "knnCV = GridSearchCV(estimator=clf,param_grid=params, cv=10, n_jobs=-1)\n",
    "\n",
    "params = {'solver': ['saga'],\n",
    "          'penalty': ['l1'],\n",
    "          'max_iter' : [180]}\n",
    "\n",
    "clf = LogisticRegression()\n",
    "logisticCV = GridSearchCV(estimator=clf,param_grid=params, cv=10, n_jobs=-1)\n",
    "\n",
    "\n",
    "params = {'var_smoothing': [0.01519911082952933]}\n",
    "\n",
    "clf = GaussianNB()\n",
    "nbCV = GridSearchCV(estimator=clf,param_grid=params, cv=10, n_jobs=-1)\n",
    "\n",
    "clf = GradientBoostingClassifier()\n",
    "params = { \"n_estimators\":[50],\n",
    "            \"max_depth\":[5],\n",
    "            \"learning_rate\":[0.125]\n",
    "            }\n",
    "gbCV = GridSearchCV(estimator=clf,param_grid=params, cv=10, n_jobs=-1)\n",
    "\n",
    "bestClassifiers = [\n",
    "                    dtCV,\n",
    "                    logisticCV,\n",
    "                    knnCV,\n",
    "                    nbCV,\n",
    "                    gbCV\n",
    "                    ]"
   ]
  },
  {
   "cell_type": "code",
   "execution_count": 46,
   "metadata": {},
   "outputs": [
    {
     "name": "stdout",
     "output_type": "stream",
     "text": [
      "DecisionTreeClassifier()\n",
      "{'criterion': 'entropy', 'max_depth': 5, 'min_samples_leaf': 1, 'min_samples_split': 2}\n",
      "Train score: 0.922\n",
      "Train Recall score 0.954, Precision score: 0.902\n",
      "Test score: 0.900\n",
      "Test Recall score 0.946, Precision score: 0.853\n",
      "LogisticRegression()\n",
      "{'max_iter': 180, 'penalty': 'l1', 'solver': 'saga'}\n",
      "Train score: 0.694\n",
      "Train Recall score 0.645, Precision score: 0.732\n",
      "Test score: 0.715\n",
      "Test Recall score 0.652, Precision score: 0.706\n",
      "KNeighborsClassifier()\n",
      "{'algorithm': 'auto', 'leaf_size': 1, 'metric': 'manhattan', 'n_neighbors': 37, 'weights': 'distance'}\n",
      "Train score: 1.000\n",
      "Train Recall score 1.000, Precision score: 1.000\n",
      "Test score: 0.675\n",
      "Test Recall score 0.663, Precision score: 0.642\n",
      "GaussianNB()\n",
      "{'var_smoothing': 0.01519911082952933}\n",
      "Train score: 0.625\n",
      "Train Recall score 0.659, Precision score: 0.632\n",
      "Test score: 0.580\n",
      "Test Recall score 0.576, Precision score: 0.541\n",
      "GradientBoostingClassifier()\n",
      "{'learning_rate': 0.125, 'max_depth': 5, 'n_estimators': 50}\n",
      "Train score: 1.000\n",
      "Train Recall score 1.000, Precision score: 1.000\n",
      "Test score: 0.930\n",
      "Test Recall score 0.957, Precision score: 0.898\n"
     ]
    }
   ],
   "source": [
    "df = filtered_df.copy()\n",
    "\n",
    "X = df.iloc[:,:-1]\n",
    "Y = df.Class\n",
    "\n",
    "X_train, X_test, y_train, y_test = train_test_split(X, Y, test_size=0.2, random_state=1)\n",
    "\n",
    "numeric_transformer = Pipeline(steps=[\n",
    "    ('scaler', MinMaxScaler())\n",
    "])\n",
    "\n",
    "runPipeline(bestClassifiers, numeric_transformer, X_train, X_test, y_train, y_test)"
   ]
  },
  {
   "cell_type": "markdown",
   "metadata": {},
   "source": [
    "## Using MICE Imputer on best hyper parameters classifiers"
   ]
  },
  {
   "cell_type": "code",
   "execution_count": 22,
   "metadata": {},
   "outputs": [
    {
     "name": "stdout",
     "output_type": "stream",
     "text": [
      "DecisionTreeClassifier()\n",
      "{'criterion': 'entropy', 'max_depth': 5, 'min_samples_leaf': 1, 'min_samples_split': 2}\n",
      "Train score: 0.919\n",
      "Train Recall score 0.961, Precision score: 0.890\n",
      "Test score: 0.890\n",
      "Test Recall score 0.946, Precision score: 0.837\n",
      "LogisticRegression()\n",
      "{'max_iter': 180, 'penalty': 'l1', 'solver': 'saga'}\n",
      "Train score: 0.731\n",
      "Train Recall score 0.710, Precision score: 0.756\n",
      "Test score: 0.750\n",
      "Test Recall score 0.783, Precision score: 0.706\n",
      "KNeighborsClassifier()\n",
      "{'algorithm': 'auto', 'leaf_size': 1, 'metric': 'manhattan', 'n_neighbors': 37, 'weights': 'distance'}\n",
      "Train score: 1.000\n",
      "Train Recall score 1.000, Precision score: 1.000\n",
      "Test score: 0.675\n",
      "Test Recall score 0.696, Precision score: 0.634\n",
      "GaussianNB()\n",
      "{'var_smoothing': 0.01519911082952933}\n",
      "Train score: 0.679\n",
      "Train Recall score 0.691, Precision score: 0.689\n",
      "Test score: 0.635\n",
      "Test Recall score 0.663, Precision score: 0.592\n",
      "GradientBoostingClassifier()\n",
      "{'learning_rate': 0.125, 'max_depth': 5, 'n_estimators': 50}\n",
      "Train score: 0.999\n",
      "Train Recall score 0.998, Precision score: 1.000\n",
      "Test score: 0.910\n",
      "Test Recall score 0.935, Precision score: 0.878\n"
     ]
    }
   ],
   "source": [
    "# Imputing with MICE\n",
    "from sklearn.experimental import enable_iterative_imputer\n",
    "from sklearn.impute import IterativeImputer\n",
    "from sklearn import linear_model\n",
    "\n",
    "df_mice = train_df.copy()\n",
    "\n",
    "X = df_mice.iloc[:,:-1]\n",
    "Y = df_mice.Class\n",
    "\n",
    "X_train, X_test, y_train, y_test = train_test_split(X, Y, test_size=0.2, random_state=1)\n",
    "\n",
    "numeric_features = X_train.columns\n",
    "numeric_transformer = Pipeline(steps=[\n",
    "    ('scaler', MinMaxScaler()),\n",
    "    ('imputer',IterativeImputer(estimator=linear_model.BayesianRidge(), n_nearest_features=None, imputation_order='ascending')\n",
    ")\n",
    "])\n",
    "\n",
    "runPipeline(bestClassifiers, numeric_transformer, X_train, X_test, y_train, y_test)"
   ]
  },
  {
   "cell_type": "markdown",
   "metadata": {},
   "source": [
    "## Finding KNN Imputers best parameters"
   ]
  },
  {
   "cell_type": "code",
   "execution_count": 24,
   "metadata": {},
   "outputs": [
    {
     "name": "stdout",
     "output_type": "stream",
     "text": [
      "2\n",
      "{'criterion': 'entropy', 'max_depth': 5, 'min_samples_leaf': 6, 'min_samples_split': 8}\n",
      "Train score: 0.916\n",
      "Test score: 0.900\n",
      "3\n",
      "{'criterion': 'entropy', 'max_depth': 6, 'min_samples_leaf': 8, 'min_samples_split': 4}\n",
      "Train score: 0.925\n",
      "Test score: 0.880\n",
      "4\n",
      "{'criterion': 'entropy', 'max_depth': 6, 'min_samples_leaf': 8, 'min_samples_split': 3}\n",
      "Train score: 0.924\n",
      "Test score: 0.890\n",
      "5\n",
      "{'criterion': 'entropy', 'max_depth': 6, 'min_samples_leaf': 8, 'min_samples_split': 9}\n",
      "Train score: 0.924\n",
      "Test score: 0.895\n",
      "6\n",
      "{'criterion': 'entropy', 'max_depth': 6, 'min_samples_leaf': 8, 'min_samples_split': 2}\n",
      "Train score: 0.926\n",
      "Test score: 0.895\n",
      "7\n",
      "{'criterion': 'gini', 'max_depth': 8, 'min_samples_leaf': 12, 'min_samples_split': 5}\n",
      "Train score: 0.900\n",
      "Test score: 0.900\n",
      "8\n",
      "{'criterion': 'entropy', 'max_depth': 6, 'min_samples_leaf': 8, 'min_samples_split': 2}\n",
      "Train score: 0.922\n",
      "Test score: 0.890\n",
      "9\n",
      "{'criterion': 'entropy', 'max_depth': 6, 'min_samples_leaf': 8, 'min_samples_split': 8}\n",
      "Train score: 0.921\n",
      "Test score: 0.865\n"
     ]
    }
   ],
   "source": [
    "# Imputing with KNN\n",
    "from sklearn.impute import KNNImputer\n",
    "\n",
    "df_knn = train_df.copy()\n",
    "\n",
    "X = df_knn.iloc[:,:-1]\n",
    "Y = df_knn.Class\n",
    "\n",
    "X_train, X_test, y_train, y_test = train_test_split(X, Y, test_size=0.2, random_state=1)\n",
    "\n",
    "numeric_features = X_train.columns\n",
    "preprocessors = []\n",
    "\n",
    "for n in range(2,10):\n",
    "    numeric_transformer = Pipeline(steps=[\n",
    "        ('scaler', MinMaxScaler()),\n",
    "        ('imputer',KNNImputer(n_neighbors=n, weights='uniform', metric='nan_euclidean'))\n",
    "    ])\n",
    "\n",
    "    preprocessor = ColumnTransformer(\n",
    "       transformers=[\n",
    "        ('numeric', numeric_transformer, numeric_features)\n",
    "    ])\n",
    "    preprocessors.append(preprocessor)\n",
    "    classifier = classifiers[0]\n",
    "    pipe = Pipeline(steps=[('preprocessor',preprocessor),\n",
    "                      ('classifier', classifier)])\n",
    "    pipe.fit(X_train, y_train)   \n",
    "    print(n)\n",
    "    print(classifier.best_params_)\n",
    "    print(\"Train score: %.3f\" % pipe.score(X_train, y_train))\n",
    "    print(\"Test score: %.3f\" % pipe.score(X_test, y_test))"
   ]
  },
  {
   "cell_type": "markdown",
   "metadata": {},
   "source": [
    "## Using KNN Imputer on best hyper parameters classifiers"
   ]
  },
  {
   "cell_type": "code",
   "execution_count": 45,
   "metadata": {},
   "outputs": [
    {
     "name": "stdout",
     "output_type": "stream",
     "text": [
      "DecisionTreeClassifier()\n",
      "{'criterion': 'entropy', 'max_depth': 5, 'min_samples_leaf': 1, 'min_samples_split': 2}\n",
      "Train score: 0.922\n",
      "Train Recall score 0.954, Precision score: 0.902\n",
      "Test score: 0.900\n",
      "Test Recall score 0.946, Precision score: 0.853\n",
      "LogisticRegression()\n",
      "{'max_iter': 180, 'penalty': 'l1', 'solver': 'saga'}\n",
      "Train score: 0.708\n",
      "Train Recall score 0.708, Precision score: 0.722\n",
      "Test score: 0.740\n",
      "Test Recall score 0.793, Precision score: 0.689\n",
      "KNeighborsClassifier()\n",
      "{'algorithm': 'auto', 'leaf_size': 1, 'metric': 'manhattan', 'n_neighbors': 37, 'weights': 'distance'}\n",
      "Train score: 1.000\n",
      "Train Recall score 1.000, Precision score: 1.000\n",
      "Test score: 0.665\n",
      "Test Recall score 0.685, Precision score: 0.624\n",
      "GaussianNB()\n",
      "{'var_smoothing': 0.01519911082952933}\n",
      "Train score: 0.657\n",
      "Train Recall score 0.705, Precision score: 0.658\n",
      "Test score: 0.635\n",
      "Test Recall score 0.696, Precision score: 0.587\n",
      "GradientBoostingClassifier()\n",
      "{'learning_rate': 0.125, 'max_depth': 5, 'n_estimators': 50}\n",
      "Train score: 1.000\n",
      "Train Recall score 1.000, Precision score: 1.000\n",
      "Test score: 0.915\n",
      "Test Recall score 0.946, Precision score: 0.879\n"
     ]
    }
   ],
   "source": [
    "from sklearn.impute import KNNImputer\n",
    "\n",
    "df_knn = train_df.copy()\n",
    "\n",
    "X = df_knn.iloc[:,:-1]\n",
    "Y = df_knn.Class\n",
    "\n",
    "X_train, X_test, y_train, y_test = train_test_split(X, Y, test_size=0.2, random_state=1)\n",
    "\n",
    "numeric_transformer = Pipeline(steps=[\n",
    "    ('scaler', MinMaxScaler()),\n",
    "    ('imputer',KNNImputer(n_neighbors=2, weights='uniform', metric='nan_euclidean'))\n",
    "])\n",
    "runPipeline(bestClassifiers, numeric_transformer, X_train, X_test, y_train, y_test)"
   ]
  },
  {
   "cell_type": "markdown",
   "metadata": {},
   "source": [
    "## Using Mean Imputer on best hyper parameters classifiers"
   ]
  },
  {
   "cell_type": "code",
   "execution_count": 30,
   "metadata": {},
   "outputs": [
    {
     "name": "stdout",
     "output_type": "stream",
     "text": [
      "DecisionTreeClassifier()\n",
      "{'criterion': 'entropy', 'max_depth': 5, 'min_samples_leaf': 1, 'min_samples_split': 2}\n",
      "Train score: 0.925\n",
      "Train Recall score 0.957, Precision score: 0.904\n",
      "Test score: 0.885\n",
      "Test Recall score 0.935, Precision score: 0.835\n",
      "LogisticRegression()\n",
      "{'max_iter': 180, 'penalty': 'l1', 'solver': 'saga'}\n",
      "Train score: 0.738\n",
      "Train Recall score 0.722, Precision score: 0.759\n",
      "Test score: 0.770\n",
      "Test Recall score 0.815, Precision score: 0.721\n",
      "KNeighborsClassifier()\n",
      "{'algorithm': 'auto', 'leaf_size': 1, 'metric': 'manhattan', 'n_neighbors': 37, 'weights': 'distance'}\n",
      "Train score: 1.000\n",
      "Train Recall score 1.000, Precision score: 1.000\n",
      "Test score: 0.665\n",
      "Test Recall score 0.674, Precision score: 0.626\n",
      "GaussianNB()\n",
      "{'var_smoothing': 0.01519911082952933}\n",
      "Train score: 0.682\n",
      "Train Recall score 0.708, Precision score: 0.688\n",
      "Test score: 0.640\n",
      "Test Recall score 0.674, Precision score: 0.596\n",
      "GradientBoostingClassifier()\n",
      "{'learning_rate': 0.125, 'max_depth': 5, 'n_estimators': 50}\n",
      "Train score: 1.000\n",
      "Train Recall score 1.000, Precision score: 1.000\n",
      "Test score: 0.905\n",
      "Test Recall score 0.935, Precision score: 0.869\n"
     ]
    }
   ],
   "source": [
    "from sklearn.impute import SimpleImputer\n",
    "\n",
    "df_mean = train_df.copy()\n",
    "\n",
    "X = df_mean.iloc[:,:-1]\n",
    "Y = df_mean.Class\n",
    "\n",
    "X_train, X_test, y_train, y_test = train_test_split(X, Y, test_size=0.2, random_state=1)\n",
    "\n",
    "numeric_features = X_train.columns\n",
    "numeric_transformer = Pipeline(steps=[\n",
    "    ('scaler', MinMaxScaler()),\n",
    "    ('imputer',SimpleImputer(strategy='mean'))\n",
    "])\n",
    "\n",
    "runPipeline(bestClassifiers, numeric_transformer, X_train, X_test, y_train, y_test)"
   ]
  },
  {
   "cell_type": "markdown",
   "metadata": {},
   "source": [
    "## Using Median Imputer on best hyper parameters classifiers"
   ]
  },
  {
   "cell_type": "code",
   "execution_count": 31,
   "metadata": {},
   "outputs": [
    {
     "name": "stdout",
     "output_type": "stream",
     "text": [
      "DecisionTreeClassifier()\n",
      "{'criterion': 'entropy', 'max_depth': 5, 'min_samples_leaf': 1, 'min_samples_split': 2}\n",
      "Train score: 0.925\n",
      "Train Recall score 0.957, Precision score: 0.904\n",
      "Test score: 0.885\n",
      "Test Recall score 0.935, Precision score: 0.835\n",
      "LogisticRegression()\n",
      "{'max_iter': 180, 'penalty': 'l1', 'solver': 'saga'}\n",
      "Train score: 0.733\n",
      "Train Recall score 0.710, Precision score: 0.758\n",
      "Test score: 0.760\n",
      "Test Recall score 0.783, Precision score: 0.720\n",
      "KNeighborsClassifier()\n",
      "{'algorithm': 'auto', 'leaf_size': 1, 'metric': 'manhattan', 'n_neighbors': 37, 'weights': 'distance'}\n",
      "Train score: 1.000\n",
      "Train Recall score 1.000, Precision score: 1.000\n",
      "Test score: 0.675\n",
      "Test Recall score 0.685, Precision score: 0.636\n",
      "GaussianNB()\n",
      "{'var_smoothing': 0.01519911082952933}\n",
      "Train score: 0.680\n",
      "Train Recall score 0.691, Precision score: 0.691\n",
      "Test score: 0.640\n",
      "Test Recall score 0.663, Precision score: 0.598\n",
      "GradientBoostingClassifier()\n",
      "{'learning_rate': 0.125, 'max_depth': 5, 'n_estimators': 50}\n",
      "Train score: 1.000\n",
      "Train Recall score 1.000, Precision score: 1.000\n",
      "Test score: 0.915\n",
      "Test Recall score 0.935, Precision score: 0.887\n"
     ]
    }
   ],
   "source": [
    "df_mean = train_df.copy()\n",
    "\n",
    "X = df_mean.iloc[:,:-1]\n",
    "Y = df_mean.Class\n",
    "\n",
    "X_train, X_test, y_train, y_test = train_test_split(X, Y, test_size=0.2, random_state=1)\n",
    "\n",
    "numeric_features = X_train.columns\n",
    "numeric_transformer = Pipeline(steps=[\n",
    "    ('scaler', MinMaxScaler()),\n",
    "    ('imputer',SimpleImputer(strategy='median'))\n",
    "])\n",
    "\n",
    "runPipeline(bestClassifiers, numeric_transformer, X_train, X_test, y_train, y_test)"
   ]
  },
  {
   "cell_type": "markdown",
   "metadata": {},
   "source": [
    "## Dropping rows with missing values"
   ]
  },
  {
   "cell_type": "code",
   "execution_count": 32,
   "metadata": {},
   "outputs": [
    {
     "name": "stdout",
     "output_type": "stream",
     "text": [
      "(500, 22)\n"
     ]
    }
   ],
   "source": [
    "dropped_df = train_df.dropna()\n",
    "print(dropped_df.shape)"
   ]
  },
  {
   "cell_type": "markdown",
   "metadata": {},
   "source": [
    "## Using best hyper parameters classifiers after dropping rows with missing values"
   ]
  },
  {
   "cell_type": "code",
   "execution_count": 33,
   "metadata": {},
   "outputs": [
    {
     "name": "stdout",
     "output_type": "stream",
     "text": [
      "DecisionTreeClassifier()\n",
      "{'criterion': 'entropy', 'max_depth': 5, 'min_samples_leaf': 1, 'min_samples_split': 2}\n",
      "Train score: 0.945\n",
      "Train Recall score 0.957, Precision score: 0.939\n",
      "Test score: 0.800\n",
      "Test Recall score 0.837, Precision score: 0.735\n",
      "LogisticRegression()\n",
      "{'max_iter': 180, 'penalty': 'l1', 'solver': 'saga'}\n",
      "Train score: 0.785\n",
      "Train Recall score 0.798, Precision score: 0.790\n",
      "Test score: 0.800\n",
      "Test Recall score 0.814, Precision score: 0.745\n",
      "KNeighborsClassifier()\n",
      "{'algorithm': 'auto', 'leaf_size': 1, 'metric': 'manhattan', 'n_neighbors': 37, 'weights': 'distance'}\n",
      "Train score: 1.000\n",
      "Train Recall score 1.000, Precision score: 1.000\n",
      "Test score: 0.760\n",
      "Test Recall score 0.767, Precision score: 0.702\n",
      "GaussianNB()\n",
      "{'var_smoothing': 0.01519911082952933}\n",
      "Train score: 0.790\n",
      "Train Recall score 0.779, Precision score: 0.810\n",
      "Test score: 0.740\n",
      "Test Recall score 0.767, Precision score: 0.673\n",
      "GradientBoostingClassifier()\n",
      "{'learning_rate': 0.125, 'max_depth': 5, 'n_estimators': 50}\n",
      "Train score: 1.000\n",
      "Train Recall score 1.000, Precision score: 1.000\n",
      "Test score: 0.810\n",
      "Test Recall score 0.930, Precision score: 0.714\n"
     ]
    }
   ],
   "source": [
    "X = dropped_df.iloc[:,:-1]\n",
    "Y = dropped_df.Class\n",
    "\n",
    "X_train, X_test, y_train, y_test = train_test_split(X, Y, test_size=0.2, random_state=1)\n",
    "\n",
    "numeric_transformer = Pipeline(steps=[\n",
    "    ('scaler', MinMaxScaler())\n",
    "])\n",
    "runPipeline(bestClassifiers, numeric_transformer, X_train, X_test, y_train, y_test)"
   ]
  },
  {
   "cell_type": "code",
   "execution_count": 34,
   "metadata": {},
   "outputs": [
    {
     "name": "stdout",
     "output_type": "stream",
     "text": [
      "(1000, 22)\n"
     ]
    },
    {
     "data": {
      "text/plain": [
       "F1         0\n",
       "F2         0\n",
       "F3         0\n",
       "F4         0\n",
       "F5         0\n",
       "F6         0\n",
       "F7         0\n",
       "F8         0\n",
       "F9         0\n",
       "F10        0\n",
       "F11        0\n",
       "F12        0\n",
       "F13        0\n",
       "F14        0\n",
       "F15        0\n",
       "F16        0\n",
       "F17        0\n",
       "F18        0\n",
       "F19        0\n",
       "F20        0\n",
       "F21      500\n",
       "Class      0\n",
       "dtype: int64"
      ]
     },
     "execution_count": 34,
     "metadata": {},
     "output_type": "execute_result"
    }
   ],
   "source": [
    "print(train_df.shape)\n",
    "train_df.isnull().sum()"
   ]
  },
  {
   "cell_type": "code",
   "execution_count": 35,
   "metadata": {},
   "outputs": [
    {
     "data": {
      "text/plain": [
       "F1       0.0\n",
       "F2       0.0\n",
       "F3       0.0\n",
       "F4       0.0\n",
       "F5       0.0\n",
       "F6       0.0\n",
       "F7       0.0\n",
       "F8       0.0\n",
       "F9       0.0\n",
       "F10      0.0\n",
       "F11      0.0\n",
       "F12      0.0\n",
       "F13      0.0\n",
       "F14      0.0\n",
       "F15      0.0\n",
       "F16      0.0\n",
       "F17      0.0\n",
       "F18      0.0\n",
       "F19      0.0\n",
       "F20      0.0\n",
       "F21      0.5\n",
       "Class    0.0\n",
       "dtype: float64"
      ]
     },
     "execution_count": 35,
     "metadata": {},
     "output_type": "execute_result"
    }
   ],
   "source": [
    "train_df.isnull().mean()"
   ]
  },
  {
   "cell_type": "markdown",
   "metadata": {},
   "source": [
    "## Visualising KNNImputed data"
   ]
  },
  {
   "cell_type": "code",
   "execution_count": 36,
   "metadata": {},
   "outputs": [],
   "source": [
    "\n",
    "# Imputing with KNNImputer\n",
    "\n",
    "from sklearn.impute import KNNImputer\n",
    "from sklearn.preprocessing import MinMaxScaler\n",
    "\n",
    "#Define a subset of the dataset\n",
    "df_knn = train_df.copy()\n",
    "\n",
    "# Define scaler to set values between 0 and 1\n",
    "\n",
    "scaler = MinMaxScaler(feature_range=(0, 1))\n",
    "df_knn = pd.DataFrame(scaler.fit_transform(df_knn), columns = df_knn.columns)\n",
    "\n",
    "# Define KNN imputer and fill missing values\n",
    "knn_imputer = KNNImputer(n_neighbors=5, weights='uniform', metric='nan_euclidean')\n",
    "df_knn_imputed = pd.DataFrame(knn_imputer.fit_transform(df_knn), columns=df_knn.columns)"
   ]
  },
  {
   "cell_type": "code",
   "execution_count": 37,
   "metadata": {},
   "outputs": [
    {
     "data": {
      "text/plain": [
       "F1       0.0\n",
       "F2       0.0\n",
       "F3       0.0\n",
       "F4       0.0\n",
       "F5       0.0\n",
       "F6       0.0\n",
       "F7       0.0\n",
       "F8       0.0\n",
       "F9       0.0\n",
       "F10      0.0\n",
       "F11      0.0\n",
       "F12      0.0\n",
       "F13      0.0\n",
       "F14      0.0\n",
       "F15      0.0\n",
       "F16      0.0\n",
       "F17      0.0\n",
       "F18      0.0\n",
       "F19      0.0\n",
       "F20      0.0\n",
       "F21      0.0\n",
       "Class    0.0\n",
       "dtype: float64"
      ]
     },
     "execution_count": 37,
     "metadata": {},
     "output_type": "execute_result"
    }
   ],
   "source": [
    "df_knn_imputed.isnull().mean()"
   ]
  },
  {
   "cell_type": "code",
   "execution_count": 38,
   "metadata": {},
   "outputs": [
    {
     "data": {
      "image/png": "[encoded data removed]",
      "text/plain": [
       "<Figure size 432x288 with 1 Axes>"
      ]
     },
     "metadata": {
      "needs_background": "light"
     },
     "output_type": "display_data"
    }
   ],
   "source": [
    "fig = plt.Figure()\n",
    "null_values = train_df['F21'].isnull() \n",
    "fig = df_knn_imputed.plot(x='F4', y='F21', kind='scatter', c=null_values, cmap='winter', title='KNN Imputation', colorbar=False)"
   ]
  },
  {
   "cell_type": "markdown",
   "metadata": {},
   "source": [
    "## Visualising MICE Imputed data"
   ]
  },
  {
   "cell_type": "code",
   "execution_count": 39,
   "metadata": {},
   "outputs": [],
   "source": [
    "# Imputing with MICE\n",
    "from sklearn.experimental import enable_iterative_imputer\n",
    "from sklearn.impute import IterativeImputer\n",
    "from sklearn import linear_model\n",
    "\n",
    "df_mice = train_df.copy()\n",
    "\n",
    "# Define MICE Imputer and fill missing values\n",
    "mice_imputer = IterativeImputer(estimator=linear_model.BayesianRidge(), n_nearest_features=None, imputation_order='ascending')\n",
    "\n",
    "df_mice_imputed = pd.DataFrame(mice_imputer.fit_transform(df_mice), columns=df_mice.columns)"
   ]
  },
  {
   "cell_type": "code",
   "execution_count": 40,
   "metadata": {},
   "outputs": [
    {
     "data": {
      "image/png": "[encoded data removed]",
      "text/plain": [
       "<Figure size 432x288 with 1 Axes>"
      ]
     },
     "metadata": {
      "needs_background": "light"
     },
     "output_type": "display_data"
    }
   ],
   "source": [
    "fig = plt.Figure()\n",
    "null_values = train_df['F21'].isnull() \n",
    "fig = df_mice_imputed.plot(x='F4', y='F21', kind='scatter', c=null_values, cmap='winter', title='Mice Imputation', colorbar=False)"
   ]
  },
  {
   "cell_type": "markdown",
   "metadata": {},
   "source": [
    "## Gradient Boosting classifier with Best Accuracy"
   ]
  },
  {
   "cell_type": "code",
   "execution_count": 65,
   "metadata": {},
   "outputs": [
    {
     "name": "stdout",
     "output_type": "stream",
     "text": [
      "GradientBoostingClassifier()\n",
      "{'learning_rate': 0.125, 'max_depth': 5, 'n_estimators': 50}\n",
      "Train score: 1.000\n",
      "Train Recall score 1.000, Precision score: 1.000\n",
      "Test score: 0.925\n",
      "Test Recall score 0.957, Precision score: 0.889\n"
     ]
    }
   ],
   "source": [
    "df = filtered_df.copy()\n",
    "\n",
    "X = df.iloc[:,:-1]\n",
    "Y = df.Class\n",
    "\n",
    "X_train, X_test, y_train, y_test = train_test_split(X, Y, test_size=0.2, random_state=1)\n",
    "\n",
    "numeric_transformer = Pipeline(steps=[\n",
    "    ('scaler', MinMaxScaler())\n",
    "])\n",
    "\n",
    "numeric_features = X_train.columns\n",
    "preprocessor = ColumnTransformer(\n",
    "   transformers=[\n",
    "    ('numeric', numeric_transformer, numeric_features)\n",
    "]) \n",
    "\n",
    "clf = GradientBoostingClassifier()\n",
    "params = { \"n_estimators\":[50],\n",
    "            \"max_depth\":[5],\n",
    "            \"learning_rate\":[0.125]\n",
    "            }\n",
    "classifier = GridSearchCV(estimator=clf,param_grid=params, cv=10, n_jobs=-1)\n",
    "\n",
    "pipe = Pipeline(steps=[('preprocessor',preprocessor),\n",
    "                          ('classifier', classifier)])\n",
    "\n",
    "pipe.fit(X_train, y_train)\n",
    "y_pred_train = pipe.predict(X_train)\n",
    "y_pred_test = pipe.predict(X_test)\n",
    "print(classifier.estimator)\n",
    "print(classifier.best_params_)\n",
    "print(\"Train score: %.3f\" % pipe.score(X_train, y_train))\n",
    "print(\"Train Recall score %.3f, Precision score: %.3f\" % (recall_score(y_train, y_pred_train), precision_score(y_train, y_pred_train)))\n",
    "print(\"Test score: %.3f\" % pipe.score(X_test, y_test))\n",
    "print(\"Test Recall score %.3f, Precision score: %.3f\" % (recall_score(y_test, y_pred_test),  precision_score(y_test, y_pred_test)))"
   ]
  },
  {
   "cell_type": "markdown",
   "metadata": {},
   "source": [
    "## Confusion Matrix"
   ]
  },
  {
   "cell_type": "code",
   "execution_count": 69,
   "metadata": {},
   "outputs": [
    {
     "name": "stdout",
     "output_type": "stream",
     "text": [
      "Train Confusion matrix\n"
     ]
    },
    {
     "data": {
      "image/png": "[encoded data removed]",
      "text/plain": [
       "<Figure size 432x288 with 2 Axes>"
      ]
     },
     "metadata": {
      "needs_background": "light"
     },
     "output_type": "display_data"
    }
   ],
   "source": [
    "plot_confusionmatrix(y_pred_train,y_train,\"Train\")"
   ]
  },
  {
   "cell_type": "code",
   "execution_count": 71,
   "metadata": {},
   "outputs": [
    {
     "name": "stdout",
     "output_type": "stream",
     "text": [
      "Test Confusion matrix\n"
     ]
    },
    {
     "data": {
      "image/png": "[encoded data removed]",
      "text/plain": [
       "<Figure size 432x288 with 2 Axes>"
      ]
     },
     "metadata": {
      "needs_background": "light"
     },
     "output_type": "display_data"
    }
   ],
   "source": [
    "plot_confusionmatrix(y_pred_test,y_test,\"Test\")"
   ]
  },
  {
   "cell_type": "markdown",
   "metadata": {},
   "source": [
    "### Part B"
   ]
  },
  {
   "cell_type": "code",
   "execution_count": 86,
   "metadata": {
    "scrolled": true
   },
   "outputs": [],
   "source": [
    "# HERE YOU WILL USE THIS TEMPLATE TO SAVE THE PREDICTIONS ON THE TEST SET\n",
    "\n",
    "# Load the test data\n",
    "test_df = pd.read_csv('CE802_P2_Test.csv')\n",
    "\n",
    "# Make sure you work on a copy\n",
    "test_data = test_df.iloc[:,:-1].copy()\n",
    "\n",
    "filtered_data = test_data.drop('F21', axis=1)\n",
    "\n",
    "predicted = pipe.predict(filtered_data)\n",
    "... # CHANGE HERE -- use your previously trained predictor and apply it to test_data\n",
    "                # (test_data can be modified if needed but make sure you don't change the order of the rows)...\n",
    "\n",
    "# Replace the last (empty) column with your prediction\n",
    "test_df.iloc[:,-1] = predicted\n",
    "test_df.Class = test_df.Class.astype(bool)\n",
    "\n",
    "# Save to the destination file\n",
    "test_df.to_csv('CE802_P2_Test_Predictions.csv', index=False, float_format='%.8g')\n",
    "\n",
    "# IMPORTANT!! Make sure only the last column has changed\n",
    "assert pd.read_csv('CE802_P2_Test.csv').iloc[:,:-1].equals(pd.read_csv('CE802_P2_Test_Predictions.csv').iloc[:,:-1])"
   ]
  },
  {
   "cell_type": "code",
   "execution_count": null,
   "metadata": {
    "scrolled": true
   },
   "outputs": [],
   "source": []
  }
 ],
 "metadata": {
  "kernelspec": {
   "display_name": "Python 3 (ipykernel)",
   "language": "python",
   "name": "python3"
  },
  "language_info": {
   "codemirror_mode": {
    "name": "ipython",
    "version": 3
   },
   "file_extension": ".py",
   "mimetype": "text/x-python",
   "name": "python",
   "nbconvert_exporter": "python",
   "pygments_lexer": "ipython3",
   "version": "3.9.12"
  }
 },
 "nbformat": 4,
 "nbformat_minor": 4
}
